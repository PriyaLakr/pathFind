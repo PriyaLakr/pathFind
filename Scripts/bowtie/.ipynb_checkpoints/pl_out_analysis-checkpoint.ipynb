{
 "cells": [
  {
   "cell_type": "code",
   "execution_count": 43,
   "metadata": {},
   "outputs": [],
   "source": [
    "def analyse(path):\n",
    "    \"\"\"\n",
    "    Analyse bowtie output files\n",
    "    \n",
    "    Parameters\n",
    "    ----------\n",
    "    path : path to the directory where input files are located. Input files should be in .txt format.\n",
    "        \n",
    "        \n",
    "    Returns\n",
    "    -------\n",
    "    CSV files containing reads information including mapped and unmapped read segments, genomic covearge of reads, NCBI-IDs and organisms.\n",
    "    \"\"\"\n",
    "        \n",
    "    import os\n",
    "    import pandas as pd\n",
    "    \n",
    "    os.chdir(path)\n",
    "    os.mkdir('output')\n",
    "    new_path=os.path.join(path,'output')\n",
    "    \n",
    "    nic = pd.read_csv(\"ncbiid.csv\",header=None)\n",
    "    names = pd.read_csv(\"names.csv\", sep=\" \", header=None)\n",
    "\n",
    "    \n",
    "    for infile in os.listdir(path):\n",
    "        if infile.endswith(\"txt\"):\n",
    "            f_name=infile.split('.')[0]\n",
    "            \n",
    "            file = pd.read_csv(infile, sep=\"\\t\", header=None)\n",
    "            file = file.assign(**{\"ncbi_id\": nic,\"names\":names})\n",
    "            file.rename(columns = {0:'Organism',1:'Genome_size', 2:f'{f_name}_mapped_read_segments', 3:f'{f_name}_unmapped_read_segments'}, inplace=True)\n",
    "\n",
    "            # keep rows where mapped reads is not zero\n",
    "            new_file = file.loc[file[f'{f_name}_mapped_read_segments'] > 0, :]\n",
    "            \n",
    "            # add read length and genome coverage columns \n",
    "            # new_file[\"read_length\"] = [161 for i in range(len(new_file['Organism']))]\n",
    "            new_file.insert(4, \"read_length\", [161 for i in range(len(new_file.index))], True)\n",
    "            \n",
    "            # calculate genome coverage and then add to the data frame\n",
    "            cal = (new_file[f'{f_name}_mapped_read_segments'] * new_file['read_length']) / new_file['Genome_size']\n",
    "            #  new_file[\"genome_coverage\"] = cal  #assigning like this creates a settingWithCopyWarning\n",
    "            new_file.insert(5, \"genome_coverage\", cal, True)\n",
    "            \n",
    "            \n",
    "            # select rows with > 10 genome coverage and save to a new file\n",
    "            final_file = new_file.loc[new_file[\"genome_coverage\"] > 10, :]\n",
    "            final_file.to_csv(f'{new_path}/{infile}.csv',index=False)\n",
    "            "
   ]
  },
  {
   "cell_type": "code",
   "execution_count": 44,
   "metadata": {
    "scrolled": false
   },
   "outputs": [],
   "source": [
    "analyse('/Users/priyalakra/Desktop/dwdcovid')"
   ]
  },
  {
   "cell_type": "code",
   "execution_count": null,
   "metadata": {},
   "outputs": [],
   "source": []
  },
  {
   "cell_type": "code",
   "execution_count": null,
   "metadata": {},
   "outputs": [],
   "source": []
  },
  {
   "cell_type": "code",
   "execution_count": 45,
   "metadata": {},
   "outputs": [],
   "source": [
    "def combine_data(path):\n",
    "    \"\"\"\n",
    "    Merge two or more dataframes by common keys\n",
    "    \n",
    "    Parameters\n",
    "    ----------\n",
    "    path : path to the directory where input .csv files are located\n",
    "        \n",
    "\n",
    "    Returns\n",
    "    -------\n",
    "    concatenated .csv files by common keys\n",
    "    \n",
    "    \"\"\"\n",
    "    \n",
    "    import os\n",
    "    import pandas as pd\n",
    "    from functools import reduce\n",
    "    os.chdir(path)\n",
    "    os.mkdir('final_output')\n",
    "    new_path=os.path.join(path,'final_output')\n",
    "    \n",
    "    names = []\n",
    "    for infile in os.listdir(path):\n",
    "        if infile.endswith(\"csv\"):\n",
    "            f_name=infile.split('.')[0]\n",
    "            file = pd.read_csv(infile)\n",
    "            new_file = file[['Organism',f'{f_name}_mapped_read_segments']]\n",
    "            names.append(new_file)\n",
    "    \n",
    "    namesf = reduce(lambda left,right: pd.merge(left,right,on=['Organism'],\n",
    "                                            how='outer'), names)  # outer: use union of keys from both frames\n",
    "    namesf = namesf.fillna(0)\n",
    "    namesf = namesf.reindex(sorted(namesf.columns[1:]), axis=1)\n",
    "    namesf.to_csv(f\"{new_path}/file.csv\", index=False)\n",
    "    "
   ]
  },
  {
   "cell_type": "code",
   "execution_count": 46,
   "metadata": {},
   "outputs": [],
   "source": [
    "combine_data('/Users/priyalakra/Desktop/dwdcovid/output')"
   ]
  },
  {
   "cell_type": "code",
   "execution_count": null,
   "metadata": {},
   "outputs": [],
   "source": []
  },
  {
   "cell_type": "code",
   "execution_count": null,
   "metadata": {},
   "outputs": [],
   "source": []
  },
  {
   "cell_type": "code",
   "execution_count": null,
   "metadata": {},
   "outputs": [],
   "source": []
  },
  {
   "cell_type": "code",
   "execution_count": null,
   "metadata": {},
   "outputs": [],
   "source": []
  },
  {
   "cell_type": "code",
   "execution_count": 14,
   "metadata": {},
   "outputs": [],
   "source": [
    "# simply concatenate two or more dataframes by columns \n",
    "def combine(path):\n",
    "    \n",
    "    import os\n",
    "    import pandas as pd\n",
    "    os.chdir(path)\n",
    "    os.mkdir('final_output')\n",
    "    new_path=os.path.join(path,'final_output')\n",
    "    \n",
    "    names = []\n",
    "    for infile in os.listdir(path):\n",
    "        if infile.endswith(\"csv\"):\n",
    "            file = pd.read_csv(infile)\n",
    "            new_file = file[['Organism','mapped_read_segments']]\n",
    "            names.append(new_file)\n",
    "    \n",
    "    names = pd.concat(names, axis=1)\n",
    "    names.to_csv(f\"{new_path}/file.csv\", index=False)\n"
   ]
  },
  {
   "cell_type": "code",
   "execution_count": 114,
   "metadata": {
    "scrolled": true
   },
   "outputs": [],
   "source": [
    "# combine('/Users/priyalakra/Desktop/covid_data_results/output')"
   ]
  },
  {
   "cell_type": "code",
   "execution_count": 103,
   "metadata": {},
   "outputs": [],
   "source": []
  },
  {
   "cell_type": "code",
   "execution_count": 109,
   "metadata": {
    "scrolled": true
   },
   "outputs": [],
   "source": []
  },
  {
   "cell_type": "code",
   "execution_count": null,
   "metadata": {},
   "outputs": [],
   "source": []
  }
 ],
 "metadata": {
  "kernelspec": {
   "display_name": "Python 3",
   "language": "python",
   "name": "python3"
  },
  "language_info": {
   "codemirror_mode": {
    "name": "ipython",
    "version": 3
   },
   "file_extension": ".py",
   "mimetype": "text/x-python",
   "name": "python",
   "nbconvert_exporter": "python",
   "pygments_lexer": "ipython3",
   "version": "3.8.8"
  }
 },
 "nbformat": 4,
 "nbformat_minor": 4
}
