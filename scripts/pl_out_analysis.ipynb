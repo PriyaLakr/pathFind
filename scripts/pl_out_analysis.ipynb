{
 "cells": [
  {
   "cell_type": "code",
   "execution_count": 96,
   "metadata": {},
   "outputs": [],
   "source": [
    "def analyse(path):\n",
    "    import os\n",
    "    import pandas as pd\n",
    "  #  import numpy as np\n",
    "    \n",
    "    os.chdir(path)\n",
    "    os.mkdir('output')\n",
    "    new_path=os.path.join(path,'output')\n",
    "    \n",
    "    nic = pd.read_csv(\"ncbiid.csv\",header=None)\n",
    "    names = pd.read_csv(\"org.csv\", sep=\" \", header=None)\n",
    "\n",
    "    \n",
    "    for infile in os.listdir(path):\n",
    "        if infile.endswith(\"txt\"):\n",
    "            s_name=infile.split('.')[0]\n",
    "            f_name=s_name.split('_')[1]\n",
    "            \n",
    "            file = pd.read_csv(infile, sep=\"\\t\", header=None)\n",
    "            file = file.assign(**{\"ncbi_id\": nic,\"names\":names})\n",
    "            file.rename(columns = {0:'Organism',1:'Genome_size',2: f'{f_name}_mapped_read_segments', 3:'unmapped_read_segments'}, inplace=True)\n",
    "\n",
    "            # keep rows where mapped reads is not zero\n",
    "            new_file = file.loc[file[f'{f_name}_mapped_read_segments'] > 0, :]\n",
    "       #     new_file = file[file['mapped_read_segments'] > 0]\n",
    "            \n",
    "            # add read length and genome coverage columns \n",
    "            new_file[\"read_length\"] = [161 for i in range(len(new_file['Organism']))]\n",
    "            \n",
    "            # calculate genome coverage and then add to the data frame\n",
    "            cal = (new_file[f'{f_name}_mapped_read_segments'] * new_file['read_length']) / new_file['Genome_size']\n",
    "            new_file[\"genome_coverage\"] = cal\n",
    "            \n",
    "            # select rows with > 10 genome coverage and save to a new file\n",
    "            final_file = new_file.loc[new_file[\"genome_coverage\"] > 10, :]\n",
    "            #final_file = new_file[new_file[\"genome_coverage\"] > 10]\n",
    "            final_file.to_csv(f'{new_path}/{infile}.csv',index=False)\n",
    "            \n",
    "\n",
    "            \n",
    "            \n",
    "            \n",
    "            "
   ]
  },
  {
   "cell_type": "code",
   "execution_count": 110,
   "metadata": {
    "scrolled": true
   },
   "outputs": [],
   "source": [
    "# analyse('/Users/priyalakra/Desktop/covid_data_results/')"
   ]
  },
  {
   "cell_type": "code",
   "execution_count": 111,
   "metadata": {},
   "outputs": [],
   "source": [
    "# merge two or more dataframes by common keys! 🤓\n",
    "def combinef(path):\n",
    "    \n",
    "    import os\n",
    "    import pandas as pd\n",
    "    from functools import reduce\n",
    "    os.chdir(path)\n",
    "    os.mkdir('output2')\n",
    "    new_path=os.path.join(path,'output2')\n",
    "    \n",
    "    names = []\n",
    "    for infile in os.listdir(path):\n",
    "        if infile.endswith(\"csv\"):\n",
    "            s_name=infile.split('.')[0]\n",
    "            f_name=s_name.split('_')[1]\n",
    "            file = pd.read_csv(infile)\n",
    "            new_file = file[['Organism',f'{f_name}_mapped_read_segments']]\n",
    "            names.append(new_file)\n",
    "    \n",
    "    namesf = reduce(lambda  left,right: pd.merge(left,right,on=['Organism'],\n",
    "                                            how='outer'), names)  # outer: use union of keys from both frames\n",
    "    namesf.to_csv(f\"{new_path}/file.csv\", index=False)\n",
    "    "
   ]
  },
  {
   "cell_type": "code",
   "execution_count": 112,
   "metadata": {},
   "outputs": [],
   "source": [
    "#combinef('/Users/priyalakra/Desktop/covid_data_results/output')"
   ]
  },
  {
   "cell_type": "code",
   "execution_count": 113,
   "metadata": {},
   "outputs": [],
   "source": [
    "# simply concatenate two or more dataframes by columns \n",
    "def combine(path):\n",
    "    \n",
    "    import os\n",
    "    import pandas as pd\n",
    "    os.chdir(path)\n",
    "    os.mkdir('output2')\n",
    "    new_path=os.path.join(path,'output2')\n",
    "    \n",
    "    names = []\n",
    "    for infile in os.listdir(path):\n",
    "        if infile.endswith(\"csv\"):\n",
    "            file = pd.read_csv(infile)\n",
    "            new_file = file[['Organism','mapped_read_segments']]\n",
    "            names.append(new_file)\n",
    "    \n",
    "    names = pd.concat(names, axis=1)\n",
    "    names.to_csv(f\"{new_path}/file.csv\", index=False)\n"
   ]
  },
  {
   "cell_type": "code",
   "execution_count": 114,
   "metadata": {
    "scrolled": true
   },
   "outputs": [],
   "source": [
    "# combine('/Users/priyalakra/Desktop/covid_data_results/output')"
   ]
  },
  {
   "cell_type": "code",
   "execution_count": 103,
   "metadata": {},
   "outputs": [],
   "source": []
  },
  {
   "cell_type": "code",
   "execution_count": 109,
   "metadata": {
    "scrolled": true
   },
   "outputs": [],
   "source": []
  },
  {
   "cell_type": "code",
   "execution_count": null,
   "metadata": {},
   "outputs": [],
   "source": []
  }
 ],
 "metadata": {
  "kernelspec": {
   "display_name": "Python 3",
   "language": "python",
   "name": "python3"
  },
  "language_info": {
   "codemirror_mode": {
    "name": "ipython",
    "version": 3
   },
   "file_extension": ".py",
   "mimetype": "text/x-python",
   "name": "python",
   "nbconvert_exporter": "python",
   "pygments_lexer": "ipython3",
   "version": "3.7.6"
  }
 },
 "nbformat": 4,
 "nbformat_minor": 4
}
